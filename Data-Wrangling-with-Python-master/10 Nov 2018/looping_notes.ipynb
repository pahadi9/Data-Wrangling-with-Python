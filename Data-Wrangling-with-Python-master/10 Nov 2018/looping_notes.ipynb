{
 "cells": [
  {
   "cell_type": "code",
   "execution_count": null,
   "metadata": {},
   "outputs": [],
   "source": [
    "# Major chunk of understanding starts by learning about the lists and the loops.\n",
    "# Lists we have already covered now comes the loops.\n",
    "names = ['Preeti','Ashish','Iman','Shruti','Malvika','Abhinay']\n",
    "\n",
    "#now we want to loop over this list: We can say that point of a for loop is to loop over a fixed number of times."
   ]
  },
  {
   "cell_type": "code",
   "execution_count": null,
   "metadata": {},
   "outputs": [],
   "source": [
    "# simplest version of our 'for' loops.\n",
    "for i in names:\n",
    "    print(i)\n",
    "    \n",
    "# It keeps going to and fro. First we went to Preeti then we went back to x and equal to Ashish, so we are looping through\n",
    "#again and again."
   ]
  },
  {
   "cell_type": "code",
   "execution_count": null,
   "metadata": {},
   "outputs": [],
   "source": [
    "# case2 - Just adding a thing along with the loop. This is again just creating an extra step. That is it. Other than \n",
    "#          that things are same\n",
    "for word in names:\n",
    "    print(\"Hello \", word)"
   ]
  },
  {
   "cell_type": "code",
   "execution_count": null,
   "metadata": {},
   "outputs": [],
   "source": [
    "# case3 - suppose we just want to pick certain elements from our list. We want to do this on the basis of certain\n",
    "#         conditions. For the sake of example lets say, I want to select just those names starting with vowels.\n",
    "\n",
    "for word in names:\n",
    "    if word[0] in 'AEIOU':\n",
    "        print('These names start with vowels :',word)\n",
    "\n",
    "# things to watch for over here. #We used the splicing, #be careful about indentation, print(word) was also indented\n",
    "#  under the if condition. Please explain why?"
   ]
  },
  {
   "cell_type": "code",
   "execution_count": null,
   "metadata": {},
   "outputs": [],
   "source": [
    "# Case4 - If we want to buid up a list instead of simply just printing it.\n",
    "vowel_names = []\n",
    "for name in names:\n",
    "    if name[0] in 'AEIOU':\n",
    "        vowel_names.append(name)\n",
    "        "
   ]
  },
  {
   "cell_type": "code",
   "execution_count": null,
   "metadata": {},
   "outputs": [],
   "source": [
    "vowel_names  # this is a new list, hence we are telling building up a list"
   ]
  },
  {
   "cell_type": "code",
   "execution_count": null,
   "metadata": {},
   "outputs": [],
   "source": [
    "# Case 5 - In lists also we just try to add the things. This case is of addition.\n",
    "# e.g. Nilay went to the grocery store. Now he wants to add up the amount that he has purchased.\n",
    "\n",
    "prices = [25,89,65,44,21,9,31]\n",
    "total = 0\n",
    "for price in prices:\n",
    "    total = total + price      # we are writing total : take the current value of total & add the price to it and store back in\n",
    "                                # total\n",
    "total          # though there is a built in function, but this is a very cool way to understand"
   ]
  },
  {
   "cell_type": "code",
   "execution_count": null,
   "metadata": {},
   "outputs": [],
   "source": [
    "% ls"
   ]
  },
  {
   "cell_type": "code",
   "execution_count": null,
   "metadata": {},
   "outputs": [],
   "source": []
  },
  {
   "cell_type": "code",
   "execution_count": null,
   "metadata": {},
   "outputs": [],
   "source": [
    "# few important magic functions\n",
    "\n",
    "%ls -> to see the content in the desktop\n",
    "%pwd -> preview the working directory\n",
    "%cd -> change the directory"
   ]
  },
  {
   "cell_type": "code",
   "execution_count": null,
   "metadata": {},
   "outputs": [],
   "source": []
  },
  {
   "cell_type": "code",
   "execution_count": null,
   "metadata": {},
   "outputs": [],
   "source": [
    "# As of now what we have really understood about the list could be defined under two main idioms.\n",
    "#1 - Iterating over a list\n",
    "#2 - Looping over a fixed number of times.\n",
    "\n",
    "# So what another conception that can be good to have but is not satisfied under the for loop? that is the conditional looping,\n",
    "# which means looping unknown number of times but only till when the condition is true. For this we use the while loop. "
   ]
  },
  {
   "cell_type": "code",
   "execution_count": null,
   "metadata": {},
   "outputs": [],
   "source": [
    "#                                 While Loop\n",
    "# CASE-1\n",
    "number = 0\n",
    "while number < 5:\n",
    "    print('come on', number)   # If I am going to run the code here itself then what will happen?\n",
    "    number = number + 1"
   ]
  },
  {
   "cell_type": "code",
   "execution_count": null,
   "metadata": {},
   "outputs": [],
   "source": [
    "# CASE-2\n",
    "number = 0\n",
    "while True:\n",
    "    print('come on', number)\n",
    "    number = number + 1      # now we are going to check inside the while loop if number is >=5\n",
    "    \n",
    "    if number >= 5:\n",
    "        break               # hence we are going to break inside the while loop.\n",
    "    "
   ]
  },
  {
   "cell_type": "code",
   "execution_count": null,
   "metadata": {},
   "outputs": [],
   "source": [
    "# Both the case 1 and case 2 are behaving the same way. But then what is the difference?\n",
    "# Either we have a condition next to the while that becomes true because we are updating some data in the while loop.\n",
    "                                                  OR\n",
    "# We have a while True and then we use the break keyword inside the while loop to break out once the condition we checked\n",
    "# inside the while loop becomes false.\n",
    "\n",
    "#Usefulness of a while loop.\n",
    "1 - Loop till the user wants to interact with us. "
   ]
  }
 ],
 "metadata": {
  "kernelspec": {
   "display_name": "Python 3",
   "language": "python",
   "name": "python3"
  },
  "language_info": {
   "codemirror_mode": {
    "name": "ipython",
    "version": 3
   },
   "file_extension": ".py",
   "mimetype": "text/x-python",
   "name": "python",
   "nbconvert_exporter": "python",
   "pygments_lexer": "ipython3",
   "version": "3.6.4"
  }
 },
 "nbformat": 4,
 "nbformat_minor": 2
}
