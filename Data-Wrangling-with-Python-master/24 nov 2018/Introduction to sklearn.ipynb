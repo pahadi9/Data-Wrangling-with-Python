{
 "cells": [
  {
   "cell_type": "markdown",
   "metadata": {},
   "source": [
    "<div class=\"alert alert-info\">\n",
    "*Objective of this sheet*\n",
    "</div>\n",
    "\n",
    "* Introdduction to sklearn.  ## <span style = 'color : Blue'>Why Sklearn??? \n"
   ]
  },
  {
   "cell_type": "markdown",
   "metadata": {},
   "source": [
    "## *Skearn vision and goals that are very clear:*\n",
    "*  Major focus is on the ease of use\n",
    "* Light and easy to install packages\n",
    "\n",
    "* Design principles that it uses:\n",
    " * Minimize number of different object interfaces.\n",
    " * Simplicity - drives this project."
   ]
  },
  {
   "cell_type": "markdown",
   "metadata": {},
   "source": [
    "### API and its design:\n",
    "* All objects : \n",
    "    * estimator.fit(X_train, Y_train)\n",
    "* Classification, regression, clustering\n",
    "    * Y_test = estimator.predict(X_test)\n",
    "* Filters, dimension reduction, latent variables\n",
    "    * X_new = estimator.transform(X_test)\n",
    "* Predictive models, density estimation\n",
    "    * test_score = estimator.score(X_test)"
   ]
  },
  {
   "cell_type": "code",
   "execution_count": null,
   "metadata": {},
   "outputs": [],
   "source": []
  },
  {
   "cell_type": "markdown",
   "metadata": {},
   "source": [
    "\n",
    "\n",
    "\n",
    "\n",
    "\n",
    "### Features of sklearn\n",
    "* sklearn has updated versions of the most common algorithms.\n",
    "* sklearn is one of the most clean, uniforma and most streamlined API.\n",
    "\n",
    "# Benefit of being streamlined to the new users : \n",
    "* Once we are clear with the basic syntax of sklearn, it becomes very easy to grasp the working of other algorithm.\n"
   ]
  },
  {
   "cell_type": "code",
   "execution_count": null,
   "metadata": {},
   "outputs": [],
   "source": [
    "#### Data Representation in sklearn.\n",
    "# for sake of showing we are taking the \n",
    "\n",
    "from sklearn import datasets\n",
    "cancer_data = datasets.load_breast_cancer()\n",
    "cancer_data.data\n"
   ]
  },
  {
   "cell_type": "code",
   "execution_count": null,
   "metadata": {},
   "outputs": [],
   "source": [
    "# Firstly we will portry it as a dataframe.\n",
    "import pandas as pd\n",
    "cancer = pd.DataFrame(cancer_data.data, columns = cancer_data.feature_names)"
   ]
  },
  {
   "cell_type": "code",
   "execution_count": null,
   "metadata": {},
   "outputs": [],
   "source": []
  },
  {
   "cell_type": "code",
   "execution_count": null,
   "metadata": {},
   "outputs": [],
   "source": [
    "cancer.head(3)    # This section is called as 'features'.\n",
    "# All the rows would be called as Sample.\n",
    "# all columns as features. \n",
    "\n",
    "\n",
    "# Overall it is called as a feature matrix.\n",
    "\n",
    "# In an equation it is defined as                       'X'(in statistically language the independent variable)\n"
   ]
  },
  {
   "cell_type": "markdown",
   "metadata": {},
   "source": [
    "### Why features Variable?"
   ]
  },
  {
   "cell_type": "markdown",
   "metadata": {},
   "source": [
    "* Features are individual independent variables that act as the input in our modeling system.\n",
    "* Out of all the features present, selecting the correct features to get the correct prediction is both an art and science at same time.\n",
    "* Through feature engineering we can infact come up with a better features as well.\n",
    "* The quality of the features in our dataset has a major impact on the quality of the insights we will be able to get when we use that dataset for machine learning.\n"
   ]
  },
  {
   "cell_type": "code",
   "execution_count": null,
   "metadata": {},
   "outputs": [],
   "source": [
    "# Target array:  Lets check out on how does it look.\n",
    "target = cancer_data.target      \n",
    "target           # it is given in binary form. So let us give it the names.\n",
    "\n",
    "# target = pd.Series(target)        #just beacuse in array we can not use the replace, hence changed to Series. \n",
    "# target.replace({0:'malignant', 1:'benign'}, inplace = True)"
   ]
  },
  {
   "cell_type": "markdown",
   "metadata": {},
   "source": [
    "### Why Target variable?"
   ]
  },
  {
   "cell_type": "markdown",
   "metadata": {},
   "source": [
    "* Target is the actual output that we want to predict from the dataset. (statistically dependent variable)\n",
    "* A supervised machine learning algorithm uses historical data to learn patterns and uncover relationships between other features of our dataset and the target. Hence here we use the Target.\n",
    "* From business point the target variable will vary depending on the business goal and available data.\n",
    "* Without a labeled target, supervised machine learning algorithms would be unable to map available data to outcomes"
   ]
  },
  {
   "cell_type": "code",
   "execution_count": null,
   "metadata": {},
   "outputs": [],
   "source": []
  },
  {
   "cell_type": "code",
   "execution_count": null,
   "metadata": {},
   "outputs": [],
   "source": [
    "# For modeling purpose we extract the features and the Targets.\n",
    "X_cancer = cancer_data.data\n",
    "\n",
    "Y_cancer = cancer_data.target"
   ]
  },
  {
   "cell_type": "markdown",
   "metadata": {},
   "source": [
    "### The most common steps used in this API are:\n",
    "* Choose a class of model by importing the appropriate estimator class from Scikit-Learn.\n",
    "* Choose model hyperparameters by instantiating this class with desired values.\n",
    "* Arrange data into a features matrix and target vector following the discussion above.\n",
    "* Fit the model to your data by calling the fit() method of the model instance.\n",
    "* Apply the Model to new data:\n",
    " * For supervised learning, often we predict labels for unknown data using the predict() method.\n",
    " * For unsupervised learning, we often transform or infer properties of the data using the transform() or predict() method."
   ]
  },
  {
   "cell_type": "code",
   "execution_count": null,
   "metadata": {},
   "outputs": [],
   "source": []
  },
  {
   "cell_type": "markdown",
   "metadata": {},
   "source": [
    "## Some popular groups of models provided by scikit-learn include:\n",
    "\n",
    "* `Clustering`: for grouping unlabeled data such as KMeans.\n",
    "\n",
    "* `Cross Validation`: for estimating the performance of supervised models on unseen data.\n",
    "\n",
    "* `Datasets`: for test datasets and for generating datasets with specific properties for investigating model behavior.\n",
    "* `Dimensionality Reduction`: for reducing the number of attributes in data for summarization, visualization and feature selection such as Principal component analysis.\n",
    "* `Ensemble methods`: for combining the predictions of multiple supervised models.\n",
    "* `Feature extraction` : for defining attributes in image and text data.\n",
    "* `Feature selection`: for identifying meaningful attributes from which to create supervised models.\n",
    "* `Parameter Tuning` : for getting the most out of supervised models.\n",
    "* `Supervised Models` : a vast array not limited to generalized linear models, discriminate analysis, naive bayes, lazy methods, neural networks, support vector machines and decision trees.Mm"
   ]
  },
  {
   "cell_type": "code",
   "execution_count": null,
   "metadata": {},
   "outputs": [],
   "source": []
  },
  {
   "cell_type": "markdown",
   "metadata": {},
   "source": [
    "## To wrap up..\n",
    "* Sklearn is ML without learning the machinery\n",
    "* Focus is on the readability and simplicity of code\n",
    "* Well suited for applications:\n",
    "    * We use on large datasets\n",
    "    * Building blocks for application-specific algorithms"
   ]
  }
 ],
 "metadata": {
  "kernelspec": {
   "display_name": "Python 3",
   "language": "python",
   "name": "python3"
  },
  "language_info": {
   "codemirror_mode": {
    "name": "ipython",
    "version": 3
   },
   "file_extension": ".py",
   "mimetype": "text/x-python",
   "name": "python",
   "nbconvert_exporter": "python",
   "pygments_lexer": "ipython3",
   "version": "3.6.4"
  }
 },
 "nbformat": 4,
 "nbformat_minor": 2
}
